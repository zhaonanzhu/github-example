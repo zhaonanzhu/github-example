
      "source": [
        "import pandas as pd\n",
        "import numpy as np\n",
        "\n",
        "print (\"Hello Capstone Project Course!\")"
      ],
      "execution_count": 1,
      "outputs": [
        {
          "output_type": "stream",
          "text": [
            "Hello Capstone Project Course!\n"
          ],
          "name": "stdout"
        }
      ]
    },
    {
      "cell_type": "markdown",
      "metadata": {
        "id": "OmI40bgatdMG",
        "colab_type": "text"
      },
      "source": [
        ""
      ]
    }
  ]
}
